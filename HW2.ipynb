{
 "cells": [
  {
   "cell_type": "markdown",
   "id": "6febea7d-6067-4651-ac2f-c6069f3c1a44",
   "metadata": {},
   "source": [
    "# Домашнее задание 2 Коломийцев Михаил"
   ]
  },
  {
   "cell_type": "raw",
   "id": "d9ad5e27-0b84-4717-86d5-cc059c8266a2",
   "metadata": {},
   "source": [
    "Задача номер 1"
   ]
  },
  {
   "cell_type": "code",
   "execution_count": 1,
   "id": "b50c3034-b2a9-4275-b575-a0ae87fd24a8",
   "metadata": {},
   "outputs": [
    {
     "name": "stdin",
     "output_type": "stream",
     "text": [
      " 1\n"
     ]
    },
    {
     "name": "stdout",
     "output_type": "stream",
     "text": [
      "1\n"
     ]
    }
   ],
   "source": [
    "s=input().split()\n",
    "for i in range(1, len(s), 2):\n",
    "    s[i - 1], s[i] = s[i], s[i - 1]\n",
    "print(' '.join(s))"
   ]
  },
  {
   "cell_type": "raw",
   "id": "68c58bb6-5bbb-44dd-9b4c-11d96cbe7216",
   "metadata": {},
   "source": [
    "Получилось только в 4 строк"
   ]
  },
  {
   "cell_type": "raw",
   "id": "8bb4f05f-b9cc-40f7-8cc4-820f9b360bcc",
   "metadata": {},
   "source": [
    "Задача номер 2"
   ]
  },
  {
   "cell_type": "code",
   "execution_count": 3,
   "id": "b5881333-d79e-4b3d-a297-edc51b6386c8",
   "metadata": {},
   "outputs": [
    {
     "name": "stdin",
     "output_type": "stream",
     "text": [
      " 1 2 3 1 2 3\\\n"
     ]
    },
    {
     "name": "stdout",
     "output_type": "stream",
     "text": [
      "3\\ 1 2 3 1 2\n"
     ]
    }
   ],
   "source": [
    "s=input().split()\n",
    "s.insert(0,s[-1])\n",
    "s.pop(-1)\n",
    "print(' '.join(s))"
   ]
  },
  {
   "cell_type": "raw",
   "id": "b62259d5-e7d6-48f4-873d-a588ca15939b",
   "metadata": {},
   "source": [
    "Опять только лишь в 4 строк "
   ]
  },
  {
   "cell_type": "raw",
   "id": "b46af320-3c87-4b98-9423-d0f67746300b",
   "metadata": {},
   "source": [
    "Задача номер 3"
   ]
  },
  {
   "cell_type": "code",
   "execution_count": 7,
   "id": "fe5eece8-8112-4c9a-9ee3-0e9dc34c1ded",
   "metadata": {},
   "outputs": [
    {
     "name": "stdin",
     "output_type": "stream",
     "text": [
      " ф ы ф ы в\n"
     ]
    },
    {
     "name": "stdout",
     "output_type": "stream",
     "text": [
      "в\n"
     ]
    }
   ],
   "source": [
    "s=input().split()\n",
    "p=[]\n",
    "for i in s:\n",
    "    if s.count(i) == 1:\n",
    "        p.append(i)\n",
    "print(' '.join(p))"
   ]
  },
  {
   "cell_type": "raw",
   "id": "f0c885aa-064f-4d24-8c93-d0c8f78e4b0d",
   "metadata": {},
   "source": [
    "Задача номер 4(Прошлые задания работали для любого элемента(не только числа), теперь же я упрощу себе задачу и буду решать как написанно в условии)"
   ]
  },
  {
   "cell_type": "code",
   "execution_count": 15,
   "id": "84f3e85a-47ed-4f12-bd12-cff3979afd3f",
   "metadata": {},
   "outputs": [
    {
     "name": "stdin",
     "output_type": "stream",
     "text": [
      " 1 2 1 2 1 2 1 2 1\n"
     ]
    },
    {
     "name": "stdout",
     "output_type": "stream",
     "text": [
      "1\n"
     ]
    }
   ],
   "source": [
    "a=0\n",
    "s = input().split()\n",
    "for i in s:\n",
    "    a=max(a,s.count(i))\n",
    "    if s.count(i) == a:\n",
    "        otvet = i\n",
    "print(otvet)"
   ]
  },
  {
   "cell_type": "raw",
   "id": "8617c48d-80d3-4849-8794-97d77e260162",
   "metadata": {},
   "source": [
    "Немного не успевал, поэтому сделал в тупую"
   ]
  },
  {
   "cell_type": "raw",
   "id": "4aa1246c-0ba8-4a4d-90ef-b760cfe5bb2e",
   "metadata": {},
   "source": [
    "Задача 5'"
   ]
  },
  {
   "cell_type": "code",
   "execution_count": 45,
   "id": "d7e24fe4-0a67-4f76-8223-5e36ea32393a",
   "metadata": {},
   "outputs": [
    {
     "name": "stdin",
     "output_type": "stream",
     "text": [
      " 2\n",
      " foewhfuiwhf4u9eufb24793\n"
     ]
    },
    {
     "name": "stdout",
     "output_type": "stream",
     "text": [
      "ofwefhiuhw4f9uuebf42973\n"
     ]
    }
   ],
   "source": [
    "G = int(input())\n",
    "s = input()\n",
    "so =[]\n",
    "for i in range(0,len(s),G):\n",
    "    str=s[i:i+G]\n",
    "    obrstr=str[::-1]\n",
    "    so.append(obrstr)\n",
    "print(''.join(so))"
   ]
  },
  {
   "cell_type": "code",
   "execution_count": null,
   "id": "95efb35b-5b3c-4526-8bfc-3e31cc0481f2",
   "metadata": {},
   "outputs": [],
   "source": []
  }
 ],
 "metadata": {
  "kernelspec": {
   "display_name": "Python 3 (ipykernel)",
   "language": "python",
   "name": "python3"
  },
  "language_info": {
   "codemirror_mode": {
    "name": "ipython",
    "version": 3
   },
   "file_extension": ".py",
   "mimetype": "text/x-python",
   "name": "python",
   "nbconvert_exporter": "python",
   "pygments_lexer": "ipython3",
   "version": "3.12.4"
  }
 },
 "nbformat": 4,
 "nbformat_minor": 5
}
