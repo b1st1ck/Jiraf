{
 "cells": [
  {
   "cell_type": "markdown",
   "id": "d92fa4b9-b73e-4b6e-9d03-8003369b4464",
   "metadata": {},
   "source": [
    "# Создание класса"
   ]
  },
  {
   "cell_type": "code",
   "execution_count": 9,
   "id": "c1717f3d-689d-40d5-825c-3d99965d396b",
   "metadata": {},
   "outputs": [
    {
     "name": "stdout",
     "output_type": "stream",
     "text": [
      "[[7, 41, 35, 5, 40, 52], [14, 19, 24, 51, 12, 23], [48, 7, 9, 50, 14, 16], [24, 24, 55, 10, 17, 5], [29, 15, 4, 45, 31, 11]]\n",
      "[[2, 2, 1, 1, 2, 2], [2, 1, 0, 2, 0, 1], [2, 2, 0, 1, 0, 2], [2, 2, 2, 0, 0, 0], [0, 0, 1, 0, 0, 0]]\n",
      "\n",
      "\n",
      "[35, 5, 24, 12, 9, 14, 10, 17, 5]\n",
      "[7, 41, 40, 52, 14, 51, 48, 7, 16, 24, 24, 55]\n",
      "Misha получил 10 баллов по Физике, из них лучше всего выполнил [7, 41, 40, 52], а вот над номерами [35, 5] надо поработать\n",
      "Zhenya получил 6 баллов по Физике, из них лучше всего выполнил [14, 51], а вот над номерами [24, 12] надо поработать\n"
     ]
    }
   ],
   "source": [
    "import random \n",
    "def chunks(lst, n):\n",
    "    for i in range(0, len(lst), n):\n",
    "        yield lst[i:i + n]\n",
    "#Задаю 5 рандомных вариантов\n",
    "phystasks = [i for i in range(1,57)]\n",
    "phystasks1 = random.choices(phystasks,k=30)\n",
    "Vars = list(chunks(phystasks1,6))\n",
    "# Создаю рандомные оценки\n",
    "Markscel = [random.randrange(0, 3) for i in range(0,30)]\n",
    "Marks = list(chunks(Markscel,6))\n",
    "print(Vars,Marks,'\\n',sep='\\n')\n",
    "# Далее можно использховать именно какие-то варианты и оценки, но я использую рандомные для наглядности\n",
    "class stat:   \n",
    "    def __init__(self,var,mark):\n",
    "        self.tasks = var\n",
    "        self.balls = mark\n",
    "        self.sumballs = sum(mark)\n",
    "        self.full = list(zip(var,mark))\n",
    "        for i in range(0,5):\n",
    "            exec(f\"self.ball{i+1} = {mark[i]}\\nself.task{i+1} = {var[i]}\")\n",
    "            #Тут я задаю каждому номеру задания его балл и само задание\n",
    "    def wortask(self): # ищу задания, которые были выполнены хуже всего\n",
    "        s =[]\n",
    "        for i in range(len(self.full)):\n",
    "            if self.full[i][1]==min(self.balls):\n",
    "                s.append(self.full[i][0])\n",
    "        return s\n",
    "    def bestask(self): # ищу задания, которые были выполнены хуже всего\n",
    "        s =[]\n",
    "        for i in range(len(self.full)):\n",
    "            if self.full[i][1]==max(self.balls):\n",
    "                s.append(self.full[i][0])\n",
    "        return s\n",
    "class PersonStat(stat):\n",
    "    def __init__(self,var,mark,name):\n",
    "        super().__init__(var,mark)\n",
    "        self.name = name\n",
    "    def info(self):\n",
    "        print(f\"{self.name} получил {self.sumballs} баллов по Физике, из них лучше всего выполнил {self.bestask()}, а вот над номерами {self.wortask()} надо поработать\")\n",
    "Var0 = PersonStat(Vars[0],Marks[0],\"Misha\")\n",
    "Var1 = PersonStat(Vars[1],Marks[1],\"Zhenya\")\n",
    "Var2 = PersonStat(Vars[2],Marks[2],\"Polina\")\n",
    "Var3 = PersonStat(Vars[3],Marks[3],\"Kirill\")\n",
    "\n",
    "print(Var0.wortask()+Var1.wortask()+Var2.wortask()+Var3.wortask())#Например здесь можно посмтреть задания, которые хуже всего выполнены у учеников\n",
    "print(Var0.bestask()+Var1.bestask()+Var2.bestask()+Var3.bestask())#Например здесь можно посмтреть задания, которые лучше всего выполнены у учеников\n",
    "Var0.info()\n",
    "Var1.info()"
   ]
  },
  {
   "cell_type": "markdown",
   "id": "230650d6-05b7-4023-8f61-99898c881c04",
   "metadata": {},
   "source": [
    "Задание со звездочкой решил не делать(\n",
    "Полностью отработал классы! После 2 часов получил результат, которым я горжусь :-)\n"
   ]
  }
 ],
 "metadata": {
  "kernelspec": {
   "display_name": "Python 3 (ipykernel)",
   "language": "python",
   "name": "python3"
  },
  "language_info": {
   "codemirror_mode": {
    "name": "ipython",
    "version": 3
   },
   "file_extension": ".py",
   "mimetype": "text/x-python",
   "name": "python",
   "nbconvert_exporter": "python",
   "pygments_lexer": "ipython3",
   "version": "3.12.4"
  }
 },
 "nbformat": 4,
 "nbformat_minor": 5
}
