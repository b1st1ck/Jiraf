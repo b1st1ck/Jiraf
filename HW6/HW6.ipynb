{
 "cells": [
  {
   "cell_type": "markdown",
   "id": "c77fd5ae-c094-4995-b837-f9678ff64719",
   "metadata": {},
   "source": [
    "# Физика"
   ]
  },
  {
   "cell_type": "markdown",
   "id": "514f7aa2-a290-4ebd-aebc-91b9b8e73210",
   "metadata": {},
   "source": [
    "Примечание: Для моего кода надо скачать и файлы прикрепленные в папке\n",
    "Поместить файлы надо в одну папку с кодом, т.к. прописано без пути"
   ]
  },
  {
   "cell_type": "code",
   "execution_count": 245,
   "id": "0cfa2eae-0355-4c1f-91fb-37a58010dfe3",
   "metadata": {},
   "outputs": [],
   "source": [
    "from tkinter import *\n",
    "from tkinter import ttk\n",
    "from tkinter import messagebox\n",
    "#Созадю само окно\n",
    "root = Tk()\n",
    "root.title('Подготовка к Семестровой по физике!!!')\n",
    "root.geometry(\"811x609\")\n",
    "root.resizable(False, False)\n",
    "\n",
    "#Создаем вкладки\n",
    "notebook = ttk.Notebook()\n",
    "notebook.pack(expand=True, fill=BOTH)\n",
    "list1 = ttk.Frame(notebook)\n",
    "list2 = ttk.Frame(notebook)\n",
    "list1.pack(fill=BOTH, expand=True)\n",
    "list2.pack(fill=BOTH, expand=True)\n",
    "notebook.add(list1, text=\"Мотивация\")\n",
    "notebook.add(list2, text=\"Механика\")\n",
    "\n",
    "#Импортируем нужные изображения\n",
    "bg = PhotoImage(file = 'Wagm0nPoKCQ.png')\n",
    "book = PhotoImage(file = \"BF-VG2_lFGA.png\")\n",
    "bg2 = PhotoImage(file = \"ovhinka2.png\")\n",
    "\n",
    "#Стартовая страница\n",
    "phon1 = Label(list1,image=bg)\n",
    "phon1.place(x = 0, y = 0)\n",
    "label = Label(list1, text=\"Ну, здравстуй сейчас ты будешь ботать общесос\\nоткрывай красную книгу и выбирай тему\", font=(\"Arial\", 14), fg=\"red\")\n",
    "label.pack() \n",
    "q = Button(list1, text=\"А что за красная книга?\" )\n",
    "q.pack(pady=10)\n",
    "q1 = Button(list1, text=\"А сколько нужно сделать номеров на УД?\" )\n",
    "q1.pack()\n",
    "\n",
    "#Создаю функции взаимодействия с кнопками\n",
    "def dead():\n",
    "    messagebox.showinfo(\"Дальше без языка\",\"Вопросы задавать нельзя!!!\\nна этот раз он тебя щадит\")\n",
    "    q.destroy()\n",
    "    q1.destroy()\n",
    "    niga=Label(list1,image=book)\n",
    "    niga.pack(side=LEFT)\n",
    "def dead1():\n",
    "    messagebox.showinfo(\"Дальше без языка\",\"Вопросы задавать нельзя!!!\\nна этот раз он тебя щадит\")\n",
    "    q.destroy()\n",
    "    q1.destroy()\n",
    "    niga=Label(list1,text='Минимум 15\\nВ КАЖДОЙ ТЕМЕ', font=(\"Arial\", 18),fg=\"red\")\n",
    "    niga.pack(side=LEFT)\n",
    "q.config(command=dead)\n",
    "q1.config(command=dead1)\n",
    "\n",
    "#Страница с заданиями\n",
    "import random \n",
    "phon2 = Label(list2,image=bg2)\n",
    "phon2.place(x = 0, y = 0)\n",
    "label2 = Label(list2, text=\"Не забудь... Чем дальше, тем хуже\", font=(\"Arial\", 14), fg=\"green\")\n",
    "label2.grid(row=1,column=4,padx=80) \n",
    "#Создаю массивы всех тем и всех номеров(Знаю что можно опять через цикл и exec(f\"...\"), но решил оставить так, потому что так проще сейчас)\n",
    "s = [\"Кинематика\",\"Динамика мат точки + Статика\",\"Переменная масса\",\"Работа ЗСЭ ЗСИ и т п\",\"Гармон колебания\",\"Момент импульса ЗСМИ\",\"Гравитация\",\"CТО\",\"Плоское движ твердого тела\",\"Колебания твердого тела, Волны\",\"Гироскопы и дивжение тв тел\",\"Не инерциальные СО\",\"Упругие деформации\",\"Элементы гидродинамики\"]\n",
    "phystasks1=['1.'+str(i) for i in range(1,27)]\n",
    "phystasks2=['2.'+str(i) for i in range(1,88)]\n",
    "phystasks3=['3.'+str(i) for i in range(1,80)]\n",
    "phystasks4=['4.'+str(i) for i in range(1,143)]\n",
    "phystasks5=['5.'+str(i) for i in range(1,79)]\n",
    "phystasks6=['6.'+str(i) for i in range(1,19)]\n",
    "phystasks7=['7.'+str(i) for i in range(1,190)]\n",
    "phystasks8=['8.'+str(i) for i in range(1,111)]\n",
    "phystasks9=['9.'+str(i) for i in range(1,199)]\n",
    "phystasks10=['10.'+str(i) for i in range(1,86)]\n",
    "phystasks11=['11.'+str(i) for i in range(1,36)]\n",
    "phystasks12=['12.'+str(i) for i in range(1,99)]\n",
    "phystasks13=['13.'+str(i) for i in range(1,63)]\n",
    "phystasks14=['14.'+str(i) for i in range(1,53)]\n",
    "\n",
    "#Ухх, тут я конечно чудо сделал, создаю 15 кнопок и 15 функций под каждую кнопку\n",
    "for i in range(1,15):\n",
    "    exec(f\"p{i} = Button(list2, text=s[{i}-1])\\np{i}.grid(pady=6.6,row={i}, column=0)\")\n",
    "    exec(f\"def z{i}():\\n    x = Label(list2, text=random.choices(phystasks{i})[0],fg='green')\\n    x.grid(pady=6.6,row={i},column=2)\")\n",
    "    exec(f\"p{i}.config(command=z{i})\")\n",
    "    \n",
    "#Вывожу\n",
    "root.mainloop()"
   ]
  },
  {
   "cell_type": "code",
   "execution_count": null,
   "id": "ce92d8a5-765d-4011-a99d-24e23197751c",
   "metadata": {},
   "outputs": [],
   "source": []
  },
  {
   "cell_type": "code",
   "execution_count": null,
   "id": "b73bae98-1931-4eae-830d-178b9cc0b687",
   "metadata": {},
   "outputs": [],
   "source": []
  }
 ],
 "metadata": {
  "kernelspec": {
   "display_name": "Python 3 (ipykernel)",
   "language": "python",
   "name": "python3"
  },
  "language_info": {
   "codemirror_mode": {
    "name": "ipython",
    "version": 3
   },
   "file_extension": ".py",
   "mimetype": "text/x-python",
   "name": "python",
   "nbconvert_exporter": "python",
   "pygments_lexer": "ipython3",
   "version": "3.12.4"
  }
 },
 "nbformat": 4,
 "nbformat_minor": 5
}
