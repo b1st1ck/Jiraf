{
 "cells": [
  {
   "cell_type": "markdown",
   "id": "74a2fed6-c2f3-42b2-8d12-d0d87881844e",
   "metadata": {},
   "source": [
    "# Упражнение 1"
   ]
  },
  {
   "cell_type": "code",
   "execution_count": 44,
   "id": "2fdaa48b-13dc-4aff-8d65-b12bab8f66b6",
   "metadata": {},
   "outputs": [
    {
     "name": "stdin",
     "output_type": "stream",
     "text": [
      " 656248\n"
     ]
    },
    {
     "name": "stdout",
     "output_type": "stream",
     "text": [
      "3*2 - 1*82031\n"
     ]
    }
   ],
   "source": [
    "n= int(input())\n",
    "a =''\n",
    "for i in range(2, n+1):\n",
    "    k=0\n",
    "    while n%i==0:\n",
    "        n /= i\n",
    "        k+=1\n",
    "    if k !=0:\n",
    "        a += str(k) + '*' + str(i) +' - '\n",
    "print(a[:-3])"
   ]
  },
  {
   "cell_type": "code",
   "execution_count": 15,
   "id": "45ba383f-8542-4813-84da-9ac34f618cfb",
   "metadata": {},
   "outputs": [
    {
     "name": "stdin",
     "output_type": "stream",
     "text": [
      " 100000\n"
     ]
    },
    {
     "name": "stdout",
     "output_type": "stream",
     "text": [
      "[2, 2, 2, 2, 2, 5, 5, 5, 5, 5]\n"
     ]
    }
   ],
   "source": [
    "n= int(input())\n",
    "s = []\n",
    "for i in range(2, n+1):\n",
    "    while n%i==0:\n",
    "        n /= i\n",
    "        s.append(i)\n",
    "print(s)    "
   ]
  },
  {
   "cell_type": "markdown",
   "id": "4c65c9bc-2ea0-4cb1-90e8-df0e2587e79e",
   "metadata": {},
   "source": [
    "Я решил сделать два вида вывода, второй работает в 4/3 раза быстрее\n",
    "По этой причине, предпочту за основу функции взять именно его, хоть и вывод из первого больше \"разговаривает\" с пользователем"
   ]
  },
  {
   "cell_type": "code",
   "execution_count": 69,
   "id": "a362e43b-0665-4262-91a2-a9300ff4f2bf",
   "metadata": {},
   "outputs": [
    {
     "name": "stdout",
     "output_type": "stream",
     "text": [
      "1\n"
     ]
    }
   ],
   "source": [
    "def r(n):\n",
    "    if n == 1 :\n",
    "        return 1\n",
    "    elif n < 0: raise TypeError('Число должно быть положительным')\n",
    "    else: \n",
    "        s = []\n",
    "        for i in range(2, n+1):\n",
    "            while n%i==0:\n",
    "                n /= i\n",
    "                s.append(i)\n",
    "        return s\n",
    "print(r(1))"
   ]
  },
  {
   "cell_type": "markdown",
   "id": "81946d3a-9a72-4783-997c-ca08e17cacfc",
   "metadata": {},
   "source": [
    "# Упражнение 2"
   ]
  },
  {
   "cell_type": "code",
   "execution_count": 129,
   "id": "6b4ae714-5cc2-4cbd-bfba-a8f73a0ab7d8",
   "metadata": {},
   "outputs": [
    {
     "data": {
      "text/plain": [
       "'y = 0.6x + 1.6'"
      ]
     },
     "execution_count": 129,
     "metadata": {},
     "output_type": "execute_result"
    }
   ],
   "source": [
    "def mhk(x,y):\n",
    "    n = (len(x))\n",
    "    a1 = n*sum([x[i]*y[i] for i in range(n)])\n",
    "    a2 = sum(x)*sum(y)\n",
    "    a3 = n*sum([x[i]**2 for i in range(n)])\n",
    "    a4 = sum(x)**2\n",
    "    a = (a1-a2)/(a3-a4)\n",
    "    b = (sum(y) - a*sum(x))/n\n",
    "    return (f'y = {a}x + {b}')\n",
    "mhk([1,2,3,4,5],[2,1,5,7,2])"
   ]
  },
  {
   "cell_type": "markdown",
   "id": "3ee6b477-397e-4498-b325-3bf9591bc28f",
   "metadata": {},
   "source": [
    "В этой задаче a1 a2 a3 a4 - части выражения для a\n",
    "Так написал для читабельности кода"
   ]
  }
 ],
 "metadata": {
  "kernelspec": {
   "display_name": "Python 3 (ipykernel)",
   "language": "python",
   "name": "python3"
  },
  "language_info": {
   "codemirror_mode": {
    "name": "ipython",
    "version": 3
   },
   "file_extension": ".py",
   "mimetype": "text/x-python",
   "name": "python",
   "nbconvert_exporter": "python",
   "pygments_lexer": "ipython3",
   "version": "3.12.4"
  }
 },
 "nbformat": 4,
 "nbformat_minor": 5
}
