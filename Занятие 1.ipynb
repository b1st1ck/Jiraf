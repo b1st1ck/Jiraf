{
 "cells": [
  {
   "cell_type": "raw",
   "id": "d857a0ab-6a99-4e34-a0c6-db17eb481bae",
   "metadata": {},
   "source": [
    "TYPE определяет тип переменной"
   ]
  },
  {
   "cell_type": "code",
   "execution_count": 2,
   "id": "6ac9c080-f576-4960-a520-e0123fb36475",
   "metadata": {
    "scrolled": true
   },
   "outputs": [
    {
     "name": "stdout",
     "output_type": "stream",
     "text": [
      "<class 'int'>\n",
      "<class 'str'>\n"
     ]
    }
   ],
   "source": [
    "print(type(1))\n",
    "print(type('a'))"
   ]
  },
  {
   "cell_type": "raw",
   "id": "c362f58e-885d-4b91-bb11-baa798d459b8",
   "metadata": {},
   "source": [
    "+= сокращает код"
   ]
  },
  {
   "cell_type": "code",
   "execution_count": 3,
   "id": "d7c60a5c-a284-4299-81b3-c5c27bb34d96",
   "metadata": {},
   "outputs": [
    {
     "name": "stdout",
     "output_type": "stream",
     "text": [
      "2\n",
      "4\n"
     ]
    }
   ],
   "source": [
    "a = 1\n",
    "a += 1\n",
    "print(a)\n",
    "a *= 2\n",
    "print(a)"
   ]
  },
  {
   "cell_type": "raw",
   "id": "90d343e2-23ac-4267-855b-dbe6aa039ded",
   "metadata": {},
   "source": [
    "input \n",
    "Вводит (str)\n",
    "int(input()) - вводит целочисленное"
   ]
  },
  {
   "cell_type": "code",
   "execution_count": 21,
   "id": "5ce42ae0-aa34-4e49-bd9a-5128fa3426ee",
   "metadata": {},
   "outputs": [
    {
     "name": "stdin",
     "output_type": "stream",
     "text": [
      " 2\n"
     ]
    },
    {
     "name": "stdout",
     "output_type": "stream",
     "text": [
      "22\n"
     ]
    }
   ],
   "source": [
    "a = input()\n",
    "print('2'+ a )"
   ]
  },
  {
   "cell_type": "raw",
   "id": "485972fb-92f1-4e3f-b874-42ca09f5cd2d",
   "metadata": {},
   "source": [
    "Операция SEP \n",
    "'\\n' - разбивка на строки\n",
    "':' - делает между выводами двоеточие"
   ]
  },
  {
   "cell_type": "code",
   "execution_count": 24,
   "id": "df4ad3e7-1011-4ac2-bc22-64f229c0e0b7",
   "metadata": {
    "scrolled": true
   },
   "outputs": [
    {
     "name": "stdout",
     "output_type": "stream",
     "text": [
      "1\n",
      "2конец"
     ]
    }
   ],
   "source": [
    "a = 1\n",
    "b = 2\n",
    "print(a,b, sep ='\\n', end = 'конец')"
   ]
  },
  {
   "cell_type": "raw",
   "id": "f1d4b491-3453-42a8-9323-0932d62c3b0d",
   "metadata": {},
   "source": [
    "Задача 1 - последнне число"
   ]
  },
  {
   "cell_type": "code",
   "execution_count": 18,
   "id": "5245c14d-c380-436e-809c-04cfbd797bac",
   "metadata": {},
   "outputs": [
    {
     "name": "stdin",
     "output_type": "stream",
     "text": [
      " 1789310\n"
     ]
    },
    {
     "name": "stdout",
     "output_type": "stream",
     "text": [
      "0\n"
     ]
    }
   ],
   "source": [
    "a = int(input())\n",
    "b = a%10\n",
    "print(b)"
   ]
  },
  {
   "cell_type": "raw",
   "id": "bc1baccd-222c-4140-9507-2cf4f18535a7",
   "metadata": {},
   "source": [
    "Len -  считает число символов \n",
    "s[i] - выводит i-1 по счету элемент\n",
    "s[-1] - выводит i элемент с конца\n",
    "s[i : j] - выводит ряд эл с i до j\n",
    "s = [start:end:step]\n",
    "[::-1] - обратный порядок\n",
    ".find(x) - находит первый X елемент и выводит его порядок .rfind - оь"
   ]
  },
  {
   "cell_type": "code",
   "execution_count": 28,
   "id": "bfdf70fb-51c6-4e9d-93f1-9ddf35ee8485",
   "metadata": {},
   "outputs": [
    {
     "name": "stdout",
     "output_type": "stream",
     "text": [
      "6\n",
      "1\n",
      "2\n",
      "3\n",
      "6\n",
      "5\n",
      "34\n"
     ]
    }
   ],
   "source": [
    "s = \"123456\"\n",
    "print(len(s),s[0], s[1], s[2], s[-1], s[-2], s[2:4], sep =\"\\n\")"
   ]
  },
  {
   "cell_type": "code",
   "execution_count": 35,
   "id": "cde64f16-572a-4027-8e2a-479300c84784",
   "metadata": {},
   "outputs": [
    {
     "name": "stdout",
     "output_type": "stream",
     "text": [
      "H\n",
      "e\n",
      "l\n",
      " \n",
      "f\n",
      "f\n",
      "f\n",
      "l\n",
      "o\n"
     ]
    }
   ],
   "source": [
    "s ='Hel ffflo'\n",
    "for i in s:\n",
    "    print(i)"
   ]
  },
  {
   "cell_type": "code",
   "execution_count": 57,
   "id": "ca3955db-9fbf-4ac7-9c63-396f84033887",
   "metadata": {},
   "outputs": [
    {
     "name": "stdout",
     "output_type": "stream",
     "text": [
      "6\n"
     ]
    }
   ],
   "source": [
    "print(s[:-1].rfind(\"l\"))"
   ]
  },
  {
   "cell_type": "code",
   "execution_count": 55,
   "id": "08cb14c8-e2c3-4696-878a-12c9dc189d93",
   "metadata": {},
   "outputs": [
    {
     "data": {
      "text/plain": [
       "'HeLLo'"
      ]
     },
     "execution_count": 55,
     "metadata": {},
     "output_type": "execute_result"
    }
   ],
   "source": [
    "s.replace('l','L')"
   ]
  },
  {
   "cell_type": "code",
   "execution_count": 63,
   "id": "e7eb17f8-13f3-41ca-9500-296e3923790c",
   "metadata": {},
   "outputs": [
    {
     "name": "stdout",
     "output_type": "stream",
     "text": [
      "Kolesnikova\n"
     ]
    }
   ],
   "source": [
    "s = 'KOLESNIKOVA'\n",
    "s = s.replace('OLESNIKOVA','olesnikova')\n",
    "print(s)"
   ]
  },
  {
   "cell_type": "code",
   "execution_count": 64,
   "id": "fa88fb66-694c-4801-9f53-aefdaf6439fd",
   "metadata": {},
   "outputs": [
    {
     "data": {
      "text/plain": [
       "1"
      ]
     },
     "execution_count": 64,
     "metadata": {},
     "output_type": "execute_result"
    }
   ],
   "source": [
    "'малако'.count('о')"
   ]
  },
  {
   "cell_type": "raw",
   "id": "d959e5de-b3ac-496a-84c1-d407c3a695d4",
   "metadata": {},
   "source": [
    "Списки"
   ]
  },
  {
   "cell_type": "code",
   "execution_count": 78,
   "id": "3a201230-2b16-4193-94cb-67e44f3d56dc",
   "metadata": {},
   "outputs": [
    {
     "name": "stdin",
     "output_type": "stream",
     "text": [
      " 3\n"
     ]
    },
    {
     "name": "stdout",
     "output_type": "stream",
     "text": [
      "[0, 1, 2, 0, 1, 2, 0, 1, 2]:9\n",
      "0\n",
      "1\n",
      "2\n",
      "0\n",
      "1\n",
      "2\n",
      "0\n",
      "1\n",
      "2\n"
     ]
    }
   ],
   "source": [
    "A = []\n",
    "for i in range(int(input())):\n",
    "    A.append(i)\n",
    "A *= 3\n",
    "print(A, len(A),sep = ':')\n",
    "for i in range(len(A)):\n",
    "    print(A[i])"
   ]
  },
  {
   "cell_type": "code",
   "execution_count": 25,
   "id": "983747de-d3d9-4a21-b3b5-5d6e24afd3af",
   "metadata": {},
   "outputs": [
    {
     "name": "stdin",
     "output_type": "stream",
     "text": [
      " 17 28 888 93\n"
     ]
    },
    {
     "name": "stdout",
     "output_type": "stream",
     "text": [
      "17\n",
      "28\n",
      "888\n",
      "93\n",
      "4\n"
     ]
    }
   ],
   "source": [
    "A = input().split()\n",
    "for i in A:\n",
    "    print(i)\n",
    "print(len(A))"
   ]
  },
  {
   "cell_type": "code",
   "execution_count": 46,
   "id": "142dd4a2-abaf-4a6b-a143-60de95b8c301",
   "metadata": {},
   "outputs": [
    {
     "name": "stdin",
     "output_type": "stream",
     "text": [
      " 12 34 56 78 91 10 212121\n"
     ]
    },
    {
     "name": "stdout",
     "output_type": "stream",
     "text": [
      "12 34 56 78 91 10 212121\n"
     ]
    }
   ],
   "source": [
    "A = input().split()\n",
    "print(' '.join(A))"
   ]
  },
  {
   "cell_type": "raw",
   "id": "86df9b35-8269-4767-b757-1145e7c2bfee",
   "metadata": {},
   "source": [
    "map(str, A) - меняет тип данных с Ашнго на стр"
   ]
  },
  {
   "cell_type": "code",
   "execution_count": 42,
   "id": "bc250760-6452-402d-ad20-c4c9f46a1a4e",
   "metadata": {},
   "outputs": [
    {
     "name": "stdin",
     "output_type": "stream",
     "text": [
      " 8\n"
     ]
    },
    {
     "name": "stdout",
     "output_type": "stream",
     "text": [
      "8\n"
     ]
    }
   ],
   "source": [
    "s = input().split()\n",
    "n = len(s)\n",
    "X = 1\n",
    "for i in range(n):\n",
    "    X *= int(s[i])\n",
    "X1 = int(X**(1/n))\n",
    "print(X1)"
   ]
  },
  {
   "cell_type": "markdown",
   "id": "392380bf-3af6-43fb-99fe-ea6fba71e677",
   "metadata": {},
   "source": [
    "# ДЗ"
   ]
  },
  {
   "cell_type": "raw",
   "id": "d8ec9604-b7f0-4fce-837e-2da18898964c",
   "metadata": {},
   "source": [
    "1)"
   ]
  },
  {
   "cell_type": "code",
   "execution_count": 4,
   "id": "86a71d8a-c2bf-4a12-b632-70c659a5194c",
   "metadata": {},
   "outputs": [
    {
     "name": "stdout",
     "output_type": "stream",
     "text": [
      "Кто ты воин?\n"
     ]
    },
    {
     "name": "stdin",
     "output_type": "stream",
     "text": [
      " Александр\n"
     ]
    },
    {
     "name": "stdout",
     "output_type": "stream",
     "text": [
      "ХАХХАХХАХА, Александр, Серьезно!? Сказать ничего больше не сможешь?\n",
      "Ну и молчи\n"
     ]
    }
   ],
   "source": [
    "print('Кто ты воин?')\n",
    "name = input() + ','\n",
    "if len(name)%2==1:\n",
    "    print('Приветствую,', name,'спасибо что пришли, это честь для нас, проходите!!!')\n",
    "else:\n",
    "    print('ХАХХАХХАХА,', name,'Серьезно!? Сказать ничего больше не сможешь?')\n",
    "    print('Ну и молчи')"
   ]
  },
  {
   "cell_type": "raw",
   "id": "60a443ec-0b36-4775-9192-ea8157299fee",
   "metadata": {},
   "source": [
    "2)"
   ]
  },
  {
   "cell_type": "code",
   "execution_count": 33,
   "id": "8820a3b8-d16b-4e10-98e6-d074fc5cf6da",
   "metadata": {},
   "outputs": [
    {
     "name": "stdin",
     "output_type": "stream",
     "text": [
      " 100\n"
     ]
    },
    {
     "name": "stdout",
     "output_type": "stream",
     "text": [
      "39\n"
     ]
    }
   ],
   "source": [
    "plata = int(input())\n",
    "sdacha = plata - 61\n",
    "print(sdacha)"
   ]
  },
  {
   "cell_type": "raw",
   "id": "acee86fe-7aca-4dac-9afe-cf92c3c8bf6c",
   "metadata": {},
   "source": [
    "3)"
   ]
  },
  {
   "cell_type": "code",
   "execution_count": 35,
   "id": "22f6dfca-b8ba-4116-b41e-f798254f4b73",
   "metadata": {},
   "outputs": [
    {
     "name": "stdin",
     "output_type": "stream",
     "text": [
      " 12.5\n",
      " 2\n",
      " 100\n"
     ]
    },
    {
     "name": "stdout",
     "output_type": "stream",
     "text": [
      "75\n"
     ]
    }
   ],
   "source": [
    "price = float(input())\n",
    "wise = float(input())\n",
    "plata = int(input())\n",
    "stoimost = int(price*wise)\n",
    "print(plata - stoimost)"
   ]
  },
  {
   "cell_type": "raw",
   "id": "e88e8e15-2347-49d9-9a97-a17f70f696bc",
   "metadata": {},
   "source": [
    "4)"
   ]
  },
  {
   "cell_type": "code",
   "execution_count": 2,
   "id": "bb05a2b9-e11e-4e59-90db-0012fb9ee6c6",
   "metadata": {},
   "outputs": [
    {
     "name": "stdout",
     "output_type": "stream",
     "text": [
      "badc\n"
     ]
    }
   ],
   "source": [
    "s ='abcd'\n",
    "s = s[:2][::-1] + s[2:][::-1]\n",
    "print(s)"
   ]
  },
  {
   "cell_type": "raw",
   "id": "849911e3-961d-4ae3-a1ab-2b5739474bca",
   "metadata": {},
   "source": [
    "5)"
   ]
  },
  {
   "cell_type": "code",
   "execution_count": 8,
   "id": "d89b1d70-8625-45a5-8aef-922edb84d61e",
   "metadata": {},
   "outputs": [],
   "source": [
    "s = open('C:/Users/09009/Занятия питон/Документы для программ/101.txt','w', encoding = \"utf-8\")\n",
    "s.write('Коломийцев Михаил Кириллович' + '\\n')\n",
    "s.write('17.09.2006')\n",
    "s.close()"
   ]
  },
  {
   "cell_type": "raw",
   "id": "18b55ff2-f1b6-40df-bc05-d1ada89cc1ea",
   "metadata": {},
   "source": [
    "*) Первый варинт с использованием eval"
   ]
  },
  {
   "cell_type": "code",
   "execution_count": 17,
   "id": "cf19166e-40d6-4031-9a1b-2c836c62d2d5",
   "metadata": {},
   "outputs": [
    {
     "name": "stdout",
     "output_type": "stream",
     "text": [
      "511\n"
     ]
    }
   ],
   "source": [
    "File = open('C:/Users/09009/Занятия питон/Документы для программ/102.txt','r')\n",
    "F = open('C:/Users/09009/Занятия питон/Документы для программ/103.txt','w')\n",
    "text=File.read().split()\n",
    "chisla=text[:-1]\n",
    "virashenie = (text[-1].join(chisla))\n",
    "F.write(str(eval(virashenie)))\n",
    "print(eval(virashenie))\n",
    "File.close()\n",
    "F.close()"
   ]
  },
  {
   "cell_type": "raw",
   "id": "afd0c34c-608d-43d1-93eb-4be1d4076c28",
   "metadata": {},
   "source": [
    "*) Второй вариснт с использованием IF"
   ]
  },
  {
   "cell_type": "code",
   "execution_count": 51,
   "id": "806ee52f-7b0f-43ab-82c2-e7da5289f66e",
   "metadata": {},
   "outputs": [
    {
     "name": "stdout",
     "output_type": "stream",
     "text": [
      "['18', '23', '167', '33', '172', '98']\n",
      "*\n",
      "38457874224\n"
     ]
    }
   ],
   "source": [
    "File = open('C:/Users/09009/Занятия питон/Документы для программ/102.txt','r')\n",
    "F = open('C:/Users/09009/Занятия питон/Документы для программ/103.txt','w')\n",
    "text=File.read().split()\n",
    "chisla = text[:-1]\n",
    "znak = text[-1]\n",
    "if znak == '+':\n",
    "    otvet = 0\n",
    "    for i in chisla:\n",
    "        otvet += int(i)\n",
    "if znak == '*':\n",
    "    otvet = 1\n",
    "    for i in chisla:\n",
    "        otvet *= int(i)\n",
    "if znak == '-':\n",
    "    otvet = 1\n",
    "    for i in chisla:\n",
    "        otvet -= int(i)\n",
    "print(chisla, znak, otvet, sep = '\\n')\n",
    "F.write(str(otvet))\n",
    "File.close()\n",
    "F.close()"
   ]
  }
 ],
 "metadata": {
  "kernelspec": {
   "display_name": "Python 3 (ipykernel)",
   "language": "python",
   "name": "python3"
  },
  "language_info": {
   "codemirror_mode": {
    "name": "ipython",
    "version": 3
   },
   "file_extension": ".py",
   "mimetype": "text/x-python",
   "name": "python",
   "nbconvert_exporter": "python",
   "pygments_lexer": "ipython3",
   "version": "3.12.4"
  }
 },
 "nbformat": 4,
 "nbformat_minor": 5
}
