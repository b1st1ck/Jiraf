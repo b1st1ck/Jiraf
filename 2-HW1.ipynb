{
 "cells": [
  {
   "cell_type": "markdown",
   "id": "a1b4e662-051d-48b8-9dde-9963161f0c8f",
   "metadata": {
    "jp-MarkdownHeadingCollapsed": true
   },
   "source": [
    "# Задача с судьёй"
   ]
  },
  {
   "cell_type": "code",
   "execution_count": 21,
   "id": "29670f35-0a69-4ff8-854e-7784e29eda27",
   "metadata": {},
   "outputs": [
    {
     "name": "stdout",
     "output_type": "stream",
     "text": [
      "Введите вначале число жителей в городе\n"
     ]
    },
    {
     "name": "stdin",
     "output_type": "stream",
     "text": [
      " 2\n"
     ]
    },
    {
     "name": "stdout",
     "output_type": "stream",
     "text": [
      "Введите вначале число связей в городе\n"
     ]
    },
    {
     "name": "stdin",
     "output_type": "stream",
     "text": [
      " 3\n"
     ]
    },
    {
     "name": "stdout",
     "output_type": "stream",
     "text": [
      "Введите связи построчно(написав одну свзяь нажмите Enter и запишите следующую). Связь записывать через пробел\n"
     ]
    },
    {
     "name": "stdin",
     "output_type": "stream",
     "text": [
      " 1 2\n",
      " 1 2\n",
      " 1 2\n"
     ]
    },
    {
     "name": "stdout",
     "output_type": "stream",
     "text": [
      "[[1, 2]]\n",
      "2\n"
     ]
    }
   ],
   "source": [
    "print(\"Введите вначале число жителей в городе\")\n",
    "n=int(input())\n",
    "print(\"Введите вначале число связей в городе\")\n",
    "m=int(input())\n",
    "print(\"Введите связи построчно(написав одну свзяь нажмите Enter и запишите следующую). Связь записывать через пробел\")\n",
    "trust =[]\n",
    "for i in range(m):\n",
    "    a=list(map(int,input().split(' ')))\n",
    "    #print(a)\n",
    "    trust.append(a)\n",
    "#print(trust)\n",
    "trust = [list(t) for t in set(tuple(lst) for lst in trust)]\n",
    "#print(trust)\n",
    "\n",
    "def charge(n,trust):\n",
    "    for i in(trust):\n",
    "        count=0\n",
    "        for k in trust:\n",
    "            if k[0] == i[1]:\n",
    "                break\n",
    "            if i[1]==k[1]:\n",
    "                count+=1\n",
    "        if count == n-1:\n",
    "            return(i[1])\n",
    "    return -1\n",
    "print(charge(n,trust))"
   ]
  },
  {
   "cell_type": "raw",
   "id": "058fcc08-7b94-40ea-8312-418c1513432a",
   "metadata": {},
   "source": [
    "В первой части создаю список списков удаляя все возможные повторения тем самым ускоряя работу будущего кода\n",
    "\n",
    "В функции charge я проверяю каждого человека на судью, в первом цикле \"i\" - потенциальный судья\n",
    "Вторым циклом я пробегаю по возможным положениям i (доверяет кому-то или ему доверяют)\n",
    "Отсеяв случаи, когда судья кому-то доверяет я проверял, что ему доверят каждый человек через count(Тут подразумевается, что повторов нет)\n",
    "\n",
    "Код получился сильно медлнным O(2(n+n^(2n))), но и сама задача подразумевает много переборов"
   ]
  },
  {
   "cell_type": "markdown",
   "id": "4074102b-f027-4802-9a83-3cd29e6218e3",
   "metadata": {
    "jp-MarkdownHeadingCollapsed": true
   },
   "source": [
    "# Задача с предками"
   ]
  },
  {
   "cell_type": "code",
   "execution_count": 47,
   "id": "a60a4430-518c-4987-a0c9-ec104048d774",
   "metadata": {},
   "outputs": [
    {
     "name": "stdout",
     "output_type": "stream",
     "text": [
      "[[], [], [], [0, 1], [0, 2], [3, 0, 1], [3, 0, 4, 1, 2], [3, 0, 1, 2]]\n"
     ]
    }
   ],
   "source": [
    "#n = int(input()) не пишу т.к я всеравно ниичего не ипутю\n",
    "n = 8\n",
    "edges =[[0,3],[0,4],[1,3],[2,4],[2,7],[3,5],[3,6],[3,7],[4,6]]#Если сказано что подаеттся в таком формате(то так и оставлю)\n",
    "graph = {}\n",
    "for u, v in edges:\n",
    "    if u not in graph:\n",
    "        graph[u] = []\n",
    "    graph[u].append(v)\n",
    "#print(graph)\n",
    "predki = {}\n",
    "\n",
    "def dfs(node):\n",
    "    if node in graph:\n",
    "        for neighbor in graph[node]: \n",
    "            #print(predki,neighbor,node,'before')\n",
    "            if neighbor not in predki:\n",
    "                predki[neighbor] = []\n",
    "            #print(predki,neighbor,node, \"add list\")\n",
    "            if node not in predki[neighbor]:\n",
    "                        predki[neighbor].append(node)\n",
    "            #print(predki,neighbor,node, \"after\")\n",
    "            if node not in predki:\n",
    "                predki[node] = []\n",
    "            else:\n",
    "                for i in predki[node]:\n",
    "                    if i not in predki[neighbor]:\n",
    "                        predki[neighbor].append(i)\n",
    "            #print(predki,neighbor,node, \"afterafter\")\n",
    "                    \n",
    "            dfs(neighbor)\n",
    "for node in graph:\n",
    "    dfs(node)\n",
    "#print(predki,'end')\n",
    "#predki_sort = sorted(predki.keys())\n",
    "predki_list = []\n",
    "for i in range(n):\n",
    "    predki_list.append(predki[i])\n",
    "print(predki_list)\n",
    "#print(graph)\n",
    "    "
   ]
  },
  {
   "cell_type": "raw",
   "id": "79cc8012-64ac-45ca-9c19-dc6cdb4f7cd5",
   "metadata": {},
   "source": [
    "Код работает примерно так: я пробегаюсь по каждой ноде dfs и по мере пробегания добавляю каждому своему соседу в заранее созданный словарь значение того, что нода его предок. Плюс каждый раз добавляю прапредков своем соседям, если они есть"
   ]
  },
  {
   "cell_type": "raw",
   "id": "3040876e-ca66-4bc7-b885-5c51d203f236",
   "metadata": {},
   "source": [
    "Через несколько часов, получлось оптимизировать код не пересобирая из словарей в списики постоянно и не добавляя по 150 раз этих предков\n",
    "Есть ошибка, что он не вызывает элементов предков, если прапредков добавили после добавления предков, но как исправитьь этот код я уже не знаю, только если пытаться что-то через тополгическую сортировку"
   ]
  },
  {
   "cell_type": "code",
   "execution_count": 9,
   "id": "7d492324-bd60-429c-98f0-b9c67120375c",
   "metadata": {},
   "outputs": [
    {
     "name": "stdout",
     "output_type": "stream",
     "text": [
      "[[], [], [], [0, 1], [0, 2], [0, 3], [0, 3, 4], [0, 2, 3]]\n"
     ]
    }
   ],
   "source": [
    "#n = int(input()) не пишу т.к я всеравно ниичего не ипутю\n",
    "n = 8\n",
    "edges =[[0,3],[0,4],[1,3],[2,4],[2,7],[3,5],[3,6],[3,7],[4,6]]\n",
    "graph = {}\n",
    "for u, v in edges:\n",
    "    if u not in graph:\n",
    "        graph[u] = []\n",
    "    graph[u].append(v)\n",
    "    \n",
    "predki = {i: set() for i in range(n)}\n",
    "\n",
    "def dfs(node):\n",
    "    for neighbor in graph.get(node, []):\n",
    "        if node not in predki[neighbor]:\n",
    "            predki[neighbor].add(node) \n",
    "            dfs(neighbor)  \n",
    "            predki[neighbor].update(predki[node])\n",
    "\n",
    "for node in graph:\n",
    "    dfs(node)\n",
    "predki_list = [sorted(predki[i]) for i in range(n)]\n",
    "print(predki_list)"
   ]
  },
  {
   "cell_type": "raw",
   "id": "204f4a0e-4e6d-41eb-a217-6663a99cc532",
   "metadata": {},
   "source": [
    "Тут джпти мне подправил код сдвинум табуляцию у predki[neighbor].update... Но почему это теперь работает я пока не понимаю, отсавлю на потом"
   ]
  },
  {
   "cell_type": "code",
   "execution_count": 11,
   "id": "3092582b-eeef-435e-9caf-a3e5c6329178",
   "metadata": {},
   "outputs": [
    {
     "name": "stdout",
     "output_type": "stream",
     "text": [
      "[[], [], [], [0, 1], [0, 2], [0, 1, 3], [0, 1, 2, 3, 4], [0, 1, 2, 3]]\n"
     ]
    }
   ],
   "source": [
    "n = 8\n",
    "edges = [[0, 3], [0, 4], [1, 3], [2, 4], [2, 7], [3, 5], [3, 6], [3, 7], [4, 6]]\n",
    "\n",
    "# Создаём граф\n",
    "graph = {}\n",
    "for u, v in edges:\n",
    "    if u not in graph:\n",
    "        graph[u] = []\n",
    "    graph[u].append(v)\n",
    "\n",
    "# Словарь для хранения предков\n",
    "predki = {i: set() for i in range(n)}\n",
    "\n",
    "# Функция DFS\n",
    "def dfs(node):\n",
    "    for neighbor in graph.get(node, []):\n",
    "        if node not in predki[neighbor]:\n",
    "            predki[neighbor].add(node)  # Добавляем текущую вершину как предка\n",
    "            dfs(neighbor)  # Рекурсивно обрабатываем соседа\n",
    "        predki[neighbor].update(predki[node])  # Добавляем всех предков текущей вершины\n",
    "\n",
    "# Запускаем DFS для всех вершин\n",
    "for node in graph:\n",
    "    dfs(node)\n",
    "\n",
    "# Преобразуем множества обратно в списки\n",
    "predki_list = [sorted(predki[i]) for i in range(n)]\n",
    "print(predki_list)"
   ]
  },
  {
   "cell_type": "code",
   "execution_count": null,
   "id": "739d9b12-07da-458d-bed5-b4cb534c1c6c",
   "metadata": {},
   "outputs": [],
   "source": []
  }
 ],
 "metadata": {
  "kernelspec": {
   "display_name": "Python 3 (ipykernel)",
   "language": "python",
   "name": "python3"
  },
  "language_info": {
   "codemirror_mode": {
    "name": "ipython",
    "version": 3
   },
   "file_extension": ".py",
   "mimetype": "text/x-python",
   "name": "python",
   "nbconvert_exporter": "python",
   "pygments_lexer": "ipython3",
   "version": "3.12.4"
  }
 },
 "nbformat": 4,
 "nbformat_minor": 5
}
